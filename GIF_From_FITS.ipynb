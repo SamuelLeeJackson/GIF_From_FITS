{
 "cells": [
  {
   "cell_type": "code",
   "execution_count": 1,
   "metadata": {},
   "outputs": [],
   "source": [
    "import imageio # This package does the hard work of creating the GIF from the data we provide\n",
    "import glob # This package allows us to get lists of files on the computer\n",
    "from astropy.io import fits # This package allows us to read data from fits and fits.fz images\n",
    "from astropy.visualization import ZScaleInterval # This package gives us a function that allows us to display the images better\n",
    "import numpy as np # This package allows us to convert our image data into the right format to save it as a GIF"
   ]
  },
  {
   "cell_type": "code",
   "execution_count": 2,
   "metadata": {},
   "outputs": [],
   "source": [
    "GIF_LENGTH_SECONDS = 2 # This is the length of the GIF that will be created\n",
    "IMAGE_FOLDER_PATH = 'Test_Data' # The name of the folder where the images are stored. Currently uses a relative filepath to the position of the notebook"
   ]
  },
  {
   "cell_type": "code",
   "execution_count": 3,
   "metadata": {},
   "outputs": [],
   "source": [
    "fits_images = sorted(glob.glob(f'{IMAGE_FOLDER_PATH}/*.fits.fz')) # Gets all of the fits.fz files in the IMAGE_FOLDER_PATH, and sorts them based on the filenames\n",
    "ZScale = ZScaleInterval() # Initialises an object that allows us to make the image display better\n",
    "\n",
    "image_list = [] # Creates an empty list, which we will fill with image data to make our GIF later\n",
    "for fits_image in fits_images: # Loops over all of the images\n",
    "    image = fits.getdata(fits_image) # Opens the fits file and reads the image data from the first HDU\n",
    "    scaled_image = ZScale(image) # This is done so that we can see detail in the image\n",
    "    image_for_GIF = np.uint8(scaled_image*255) # Image is converted into 8-bit integer values as this is the format of GIFs.\n",
    "    image_list.append(image_for_GIF) # This adds the current image data to the list to be made into a GIF\n",
    "    \n",
    "# Creates a GIF from the data we provided in 'image_list'\n",
    "# duration is the duration of one frame (calculated by dividing the total length of the GIF stated by GIF_LENGTH_SECONDS by the number of frames used to make the GIF)\n",
    "imageio.mimsave('Test_GIF.gif', image_list, duration=GIF_LENGTH_SECONDS/len(fits_images))"
   ]
  }
 ],
 "metadata": {
  "kernelspec": {
   "display_name": "Python 3",
   "language": "python",
   "name": "python3"
  },
  "language_info": {
   "codemirror_mode": {
    "name": "ipython",
    "version": 3
   },
   "file_extension": ".py",
   "mimetype": "text/x-python",
   "name": "python",
   "nbconvert_exporter": "python",
   "pygments_lexer": "ipython3",
   "version": "3.8.5"
  }
 },
 "nbformat": 4,
 "nbformat_minor": 4
}
